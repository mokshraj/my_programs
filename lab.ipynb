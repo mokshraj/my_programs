{
 "cells": [
  {
   "cell_type": "code",
   "execution_count": 9,
   "metadata": {},
   "outputs": [
    {
     "name": "stdout",
     "output_type": "stream",
     "text": [
      "<class 'int'>\n",
      "<class 'float'>\n",
      "<class 'complex'>\n"
     ]
    }
   ],
   "source": [
    "a = 1\n",
    "b = 0.5\n",
    "c = 2+3j\n",
    "print(f\"{type(a)}\\n{type(b)}\\n{type(c)}\")"
   ]
  },
  {
   "cell_type": "code",
   "execution_count": 7,
   "metadata": {},
   "outputs": [
    {
     "name": "stdout",
     "output_type": "stream",
     "text": [
      "3.0\n",
      "2.0\n",
      "(2+3j)\n"
     ]
    }
   ],
   "source": [
    "a  = 2 + 3j\n",
    "print(a.imag)\n",
    "print(a.real)\n",
    "print(a)"
   ]
  },
  {
   "cell_type": "code",
   "execution_count": 6,
   "metadata": {},
   "outputs": [
    {
     "name": "stdout",
     "output_type": "stream",
     "text": [
      "(8+8j)\n",
      "-2j\n"
     ]
    }
   ],
   "source": [
    "b = 4 + 3j\n",
    "c = 4 + 5j\n",
    "print(b+c)\n",
    "print(b-c)"
   ]
  },
  {
   "cell_type": "code",
   "execution_count": 21,
   "metadata": {},
   "outputs": [
    {
     "name": "stdout",
     "output_type": "stream",
     "text": [
      "7\n",
      "1\n",
      "2\n",
      "3\n",
      "7\n",
      "89\n",
      "456\n",
      "741852\n"
     ]
    }
   ],
   "source": [
    "l = [1,2,3,7,89,456,741852]\n",
    "print(len(l))\n",
    "for i in range(7):\n",
    "    print(l[i])"
   ]
  },
  {
   "cell_type": "code",
   "execution_count": 3,
   "metadata": {},
   "outputs": [
    {
     "name": "stdout",
     "output_type": "stream",
     "text": [
      "dict_keys([1])\n",
      "dict_values(['wertujilk'])\n",
      "wertujilk\n",
      "69\n"
     ]
    }
   ],
   "source": [
    "b = {1:\"wertujilk\"}\n",
    "print(b.keys())\n",
    "print(b.values())\n",
    "print(b[1])\n",
    "b[1]=69\n",
    "print(b[1])"
   ]
  }
 ],
 "metadata": {
  "kernelspec": {
   "display_name": "Python 3",
   "language": "python",
   "name": "python3"
  },
  "language_info": {
   "codemirror_mode": {
    "name": "ipython",
    "version": 3
   },
   "file_extension": ".py",
   "mimetype": "text/x-python",
   "name": "python",
   "nbconvert_exporter": "python",
   "pygments_lexer": "ipython3",
   "version": "3.12.5"
  }
 },
 "nbformat": 4,
 "nbformat_minor": 2
}
