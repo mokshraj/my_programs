{
 "cells": [
  {
   "cell_type": "code",
   "execution_count": 9,
   "metadata": {},
   "outputs": [
    {
     "name": "stdout",
     "output_type": "stream",
     "text": [
      "<class 'int'>\n",
      "<class 'float'>\n",
      "<class 'complex'>\n"
     ]
    }
   ],
   "source": [
    "a = 1\n",
    "b = 0.5\n",
    "c = 2+3j\n",
    "print(f\"{type(a)}\\n{type(b)}\\n{type(c)}\")"
   ]
  },
  {
   "cell_type": "code",
   "execution_count": 7,
   "metadata": {},
   "outputs": [
    {
     "name": "stdout",
     "output_type": "stream",
     "text": [
      "3.0\n",
      "2.0\n",
      "(2+3j)\n"
     ]
    }
   ],
   "source": [
    "a  = 2 + 3j\n",
    "print(a.imag)\n",
    "print(a.real)\n",
    "print(a)"
   ]
  },
  {
   "cell_type": "code",
   "execution_count": 6,
   "metadata": {},
   "outputs": [
    {
     "name": "stdout",
     "output_type": "stream",
     "text": [
      "(8+8j)\n",
      "-2j\n"
     ]
    }
   ],
   "source": [
    "b = 4 + 3j\n",
    "c = 4 + 5j\n",
    "print(b+c)\n",
    "print(b-c)"
   ]
  },
  {
   "cell_type": "code",
   "execution_count": 21,
   "metadata": {},
   "outputs": [
    {
     "name": "stdout",
     "output_type": "stream",
     "text": [
      "7\n",
      "1\n",
      "2\n",
      "3\n",
      "7\n",
      "89\n",
      "456\n",
      "741852\n"
     ]
    }
   ],
   "source": [
    "l = [1,2,3,7,89,456,741852]\n",
    "print(len(l))\n",
    "for i in range(7):\n",
    "    print(l[i])"
   ]
  },
  {
   "cell_type": "code",
   "execution_count": 3,
   "metadata": {},
   "outputs": [
    {
     "name": "stdout",
     "output_type": "stream",
     "text": [
      "dict_keys([1])\n",
      "dict_values(['wertujilk'])\n",
      "wertujilk\n",
      "69\n"
     ]
    }
   ],
   "source": [
    "b = {1:\"wertujilk\"}\n",
    "print(b.keys())\n",
    "print(b.values())\n",
    "print(b[1])\n",
    "b[1]=69\n",
    "print(b[1])"
   ]
  },
  {
   "cell_type": "code",
   "execution_count": 4,
   "metadata": {},
   "outputs": [
    {
     "name": "stdout",
     "output_type": "stream",
     "text": [
      "69 is not divisible by 5\n"
     ]
    }
   ],
   "source": [
    "a = int(input(\"enter a no. : \"))\n",
    "if a%5 == 0:\n",
    "    print(f\"{a} is divisible by 5\")\n",
    "else:\n",
    "    print(f\"{a} is not divisible by 5\")"
   ]
  },
  {
   "cell_type": "code",
   "execution_count": 8,
   "metadata": {},
   "outputs": [
    {
     "name": "stdout",
     "output_type": "stream",
     "text": [
      "1900 is not a year\n"
     ]
    }
   ],
   "source": [
    "a = int(input(\"Enter a year for checking\"))\n",
    "if a%100 == 0:\n",
    "    if a%400 == 0:\n",
    "        print(f\"{a} is a leap year\")\n",
    "    else:\n",
    "        print(f\"{a} is not a year\")      \n",
    "elif a%4 == 0:\n",
    "    print(f\"{a} is a leap year\")\n",
    "else:\n",
    "    print(f\"{a} is not a year\")"
   ]
  },
  {
   "cell_type": "code",
   "execution_count": 20,
   "metadata": {},
   "outputs": [
    {
     "name": "stdout",
     "output_type": "stream",
     "text": [
      "for trangle of sides:  [1, 2, 3]\n",
      "the triangle is invlaid\n"
     ]
    }
   ],
   "source": [
    "a = []\n",
    "for i in range(3):\n",
    "    a.append(int(input(f\"Enter {i+1} side of triangle\")))\n",
    "    \n",
    "print(\"for trangle of sides: \",a)\n",
    "if(a[0]+a[1]>a[2] and a[1]+a[2]>a[0] and a[0]+a[2]>a[1]):\n",
    "    print(\"the triangle is valid\")\n",
    "else:\n",
    "    print(\"the triangle is invlaid\")"
   ]
  },
  {
   "cell_type": "code",
   "execution_count": null,
   "metadata": {},
   "outputs": [
    {
     "name": "stdout",
     "output_type": "stream",
     "text": [
      "The triangle of side: [10, 10, 10] is equilateral\n"
     ]
    }
   ],
   "source": [
    "a = []\n",
    "for i in range(3):\n",
    "    a.append(int(input(f\"Enter {i+1} side of triangle\")))\n",
    "print(f\"The triangle of side: {a}\",end=\"\")\n",
    "tchk = 0\n",
    "if a[0] == a[2]:\n",
    "    tchk=+1\n",
    "for i in range(2):\n",
    "    if a[i] == a[i+1]:\n",
    "        tchk = tchk + 1\n",
    "if tchk ==0 and a[0]+a[1]>a[2] and a[1]+a[2]>a[0] and a[0]+a[2]>a[1]:\n",
    "    print(\" is scalar\")\n",
    "elif tchk == 1 and a[0]+a[1]>a[2] and a[1]+a[2]>a[0] and a[0]+a[2]>a[1]:\n",
    "    print(\"is isoscalar\")\n",
    "elif tchk >1:\n",
    "    print(\" is equilateral\")\n",
    "else:\n",
    "    print(\" triangle is invalid\")"
   ]
  },
  {
   "cell_type": "code",
   "execution_count": 1,
   "metadata": {},
   "outputs": [
    {
     "name": "stdout",
     "output_type": "stream",
     "text": [
      "@.com is a valid email id\n"
     ]
    }
   ],
   "source": [
    "a = input(\"Enter a email ID : \")\n",
    "if a.find(\"@\") != -1 and a.endswith(\".com\"):\n",
    "    print(f\"{a} is a valid email id\")"
   ]
  },
  {
   "cell_type": "code",
   "execution_count": 5,
   "metadata": {},
   "outputs": [
    {
     "name": "stdout",
     "output_type": "stream",
     "text": [
      "strly\n"
     ]
    }
   ],
   "source": [
    "a = input(\"Enter a Str : \")\n",
    "if(a.endswith(\"ing\") and len(a)>2):\n",
    "    a = a[0:-3] + \"ly\"\n",
    "    print(a)"
   ]
  },
  {
   "cell_type": "code",
   "execution_count": 15,
   "metadata": {},
   "outputs": [
    {
     "name": "stdout",
     "output_type": "stream",
     "text": [
      "11 is a prime.\n"
     ]
    }
   ],
   "source": [
    "a = int(input(\"Enter a no. : \"))\n",
    "chk = 0\n",
    "for i in range(2,a):\n",
    "    if a%i == 0:\n",
    "        chk = 1\n",
    "if chk == 0:\n",
    "    print(a, \"is a prime.\")\n",
    "else:\n",
    "    print(a,\" is not a prime.\")"
   ]
  },
  {
   "cell_type": "code",
   "execution_count": 5,
   "metadata": {},
   "outputs": [
    {
     "name": "stdout",
     "output_type": "stream",
     "text": [
      "The prime no.s in range 11 : 2 3 5 7 11 "
     ]
    }
   ],
   "source": [
    "a = int(input(\"Enter a no. : \"))\n",
    "print(f\"The prime no.s in range {a} : \",end=\"\")\n",
    "for i in range(2,a+1):\n",
    "    chk = 0\n",
    "    for j in range(2,i):\n",
    "        if i%j == 0:\n",
    "            chk = 1\n",
    "            break\n",
    "    if chk == 0 :\n",
    "        print(i,end=\" \")"
   ]
  },
  {
   "cell_type": "code",
   "execution_count": 12,
   "metadata": {},
   "outputs": [
    {
     "name": "stdout",
     "output_type": "stream",
     "text": [
      "the Sum of given elements is : 138\n"
     ]
    }
   ],
   "source": [
    "a = int(input(\"Enter the no. of elements you want to enter : \"))\n",
    "b =[]\n",
    "for i in range(a):\n",
    "    b.append(int(input(\"Enter a no. : \")))\n",
    "sum = 0\n",
    "for i in b:\n",
    "    sum = sum + i\n",
    "print(f\"the Sum of given elements is : {sum}\")"
   ]
  },
  {
   "cell_type": "code",
   "execution_count": 2,
   "metadata": {},
   "outputs": [
    {
     "name": "stdout",
     "output_type": "stream",
     "text": [
      "Enter a str : tit is a palendrome\n"
     ]
    }
   ],
   "source": [
    "print(\"Enter a str : \",end=\"\")\n",
    "a =  input()\n",
    "if a == a[::-1]:\n",
    "    print(f\"{a} is a palendrome\")\n",
    "else:\n",
    "    print(f\"{a} is not a palendrome\")"
   ]
  },
  {
   "cell_type": "code",
   "execution_count": 22,
   "metadata": {},
   "outputs": [
    {
     "name": "stdout",
     "output_type": "stream",
     "text": [
      "factorial of 3 is :  6\n"
     ]
    }
   ],
   "source": [
    "#WAF (function) to find the factorial of a number\n",
    "def fact(n):\n",
    "    if n==1:\n",
    "        return 1\n",
    "    else:\n",
    "        return n*fact(n-1)\n",
    "print(\"factorial of 3 is : \",fact(3))"
   ]
  },
  {
   "cell_type": "code",
   "execution_count": 6,
   "metadata": {},
   "outputs": [
    {
     "name": "stdout",
     "output_type": "stream",
     "text": [
      "{'name': 'mokshraj'}\n"
     ]
    }
   ],
   "source": [
    "#WAF that accepts dictionary as a parameter.\n",
    "def dicin(n=dict()):\n",
    "    print(n)\n",
    "dicin({\"name\":\"mokshraj\"})"
   ]
  },
  {
   "cell_type": "code",
   "execution_count": 5,
   "metadata": {},
   "outputs": [
    {
     "name": "stdout",
     "output_type": "stream",
     "text": [
      "This String has this many UPPER and lowercase characters :  {'upper': 7, 'lower': 41}\n"
     ]
    }
   ],
   "source": [
    "# WAF that takes a string as an input and returns a dictionary containing the number of uppercase and lowercase characters in the string.\n",
    "def strin(n):\n",
    "    u = 0\n",
    "    l = 0\n",
    "    for i in n:\n",
    "        if i.isalpha():\n",
    "            if i.isupper() :\n",
    "                u +=1\n",
    "            else:\n",
    "                l +=1\n",
    "    return({\"upper\":u,\"lower\":l})\n",
    "print(\"This String has this many UPPER and lowercase characters : \",strin(\"This String has this many UPPER and lowercase characters : \"))"
   ]
  },
  {
   "cell_type": "code",
   "execution_count": 7,
   "metadata": {},
   "outputs": [
    {
     "name": "stdout",
     "output_type": "stream",
     "text": [
      "(1, 2, 4, 5)\n"
     ]
    }
   ],
   "source": [
    "# WAF that returns a tuple.\n",
    "def tupin(n = tuple()):\n",
    "    print(n)\n",
    "tupin((1,2,4,5))"
   ]
  },
  {
   "cell_type": "code",
   "execution_count": null,
   "metadata": {},
   "outputs": [
    {
     "name": "stdout",
     "output_type": "stream",
     "text": [
      "['best', 'short', 'shirt', 'long', 'ling']\n",
      "The shortest and longest word in this array is : ('best', 'short')\n"
     ]
    }
   ],
   "source": [
    "#  WAF that takes a list of string as input and returns a tuple containing the shortest and longest word from the list, in that order. \n",
    "# (If there are multiple words of the same shortest and longest word, return the first occurrence of both).\n",
    "def shortlongstr(str):\n",
    "    short = \"\"\n",
    "    long = \"\"\n",
    "    for i in str:\n",
    "        if len(long) < len(i):\n",
    "            short = long\n",
    "            long = i\n",
    "    return (short,long)\n",
    "arr = [\"best\",\"short\",\"shirt\",\"long\",\"ling\"]\n",
    "print(arr)\n",
    "print(\"The shortest and longest word in this array is :\",shortlongstr(arr))"
   ]
  },
  {
   "cell_type": "code",
   "execution_count": 16,
   "metadata": {},
   "outputs": [
    {
     "name": "stdout",
     "output_type": "stream",
     "text": [
      "[1, 2]\n",
      "trying to append 2 :\n",
      "[1, 2]\n",
      "trying to append 3 :\n",
      "[1, 2, 3]\n"
     ]
    }
   ],
   "source": [
    "# WAF that takes a list and an element as input. the function should add the element to the list only if it is not already present in the list\n",
    "def setin (n,l = list()):\n",
    "    isin = True\n",
    "    for i in l :\n",
    "        if i == n:\n",
    "            isin = False\n",
    "            break\n",
    "    if(isin):\n",
    "        l.append(n)\n",
    "arr = [1,2]\n",
    "print(arr)\n",
    "print(\"trying to append 2 :\")\n",
    "setin(2,arr)\n",
    "print(arr)\n",
    "print(\"trying to append 3 :\")\n",
    "setin(3,arr)\n",
    "print(arr)"
   ]
  },
  {
   "cell_type": "code",
   "execution_count": 19,
   "metadata": {},
   "outputs": [
    {
     "name": "stdout",
     "output_type": "stream",
     "text": [
      "[0, 7, 52, 81, 82, 82]\n"
     ]
    }
   ],
   "source": [
    "# WAF that takes list of number as input and returns a sorted list containing the non-negative number from the input list.\n",
    "def returnpositive(arr):\n",
    "    arr.sort()\n",
    "    for i in range(len(arr)):\n",
    "        if arr[i] > -1:\n",
    "            return arr[i:]\n",
    "print(returnpositive([-1,-2,-3,7,82,52,0,81,82]))"
   ]
  },
  {
   "cell_type": "code",
   "execution_count": 21,
   "metadata": {},
   "outputs": [
    {
     "name": "stdout",
     "output_type": "stream",
     "text": [
      "hello\n",
      "hello\n",
      "hello\n",
      "hello\n",
      "hello\n"
     ]
    }
   ],
   "source": [
    "# WAP to access a function inside a function.\n",
    "def hello():\n",
    "    print(\"hello\")\n",
    "def nhello(n):\n",
    "    for i in range(n):\n",
    "        hello()\n",
    "nhello(5)"
   ]
  },
  {
   "cell_type": "code",
   "execution_count": 6,
   "metadata": {},
   "outputs": [
    {
     "name": "stdout",
     "output_type": "stream",
     "text": [
      "10   20\n",
      "  10  \n",
      "  20  \n"
     ]
    }
   ],
   "source": [
    "# simple class inheritance\n",
    "class A:\n",
    "    a =10\n",
    "    def show(self):\n",
    "        print(\" \",self.a,\" \")\n",
    "class B(A):\n",
    "    b = 20\n",
    "    def show2(self):\n",
    "        print(\" \",self.b,\" \")\n",
    "ob = B()\n",
    "print(ob.a,\" \",ob.b)\n",
    "ob.show()\n",
    "ob.show2()"
   ]
  },
  {
   "cell_type": "code",
   "execution_count": 5,
   "metadata": {},
   "outputs": [
    {
     "name": "stdout",
     "output_type": "stream",
     "text": [
      "10\n",
      "1\n"
     ]
    }
   ],
   "source": [
    "# operator overloading add , subtract\n",
    "class alpha:\n",
    "    def __init__ (self,x,y):\n",
    "        self.x = x\n",
    "        self.y = y\n",
    "    def __add__(self,other):\n",
    "        return (self.x + other.x) \n",
    "    def __sub__(self,other):\n",
    "        return (self.y - other.y)\n",
    "\n",
    "ob1 = alpha(3,4)\n",
    "ob2 = alpha(7,3)\n",
    "print(ob1+ob2)\n",
    "print(ob1-ob2)"
   ]
  },
  {
   "cell_type": "code",
   "execution_count": null,
   "metadata": {},
   "outputs": [
    {
     "name": "stdout",
     "output_type": "stream",
     "text": [
      "hi there\n"
     ]
    }
   ],
   "source": [
    "# string representation oveloacing\n",
    "class alpha:\n",
    "    def __str__(self):\n",
    "        return \"hi there\"\n",
    "ob = alpha()\n",
    "print(ob)"
   ]
  },
  {
   "cell_type": "code",
   "execution_count": null,
   "metadata": {},
   "outputs": [],
   "source": [
    "class books:\n",
    "    def __init__(self,title,auther,ISBN):\n",
    "        self.title = title\n",
    "        self.auther = auther\n",
    "        self.ISBN = ISBN\n",
    "    def display_info(self):\n",
    "        print(f\"Title : {self.title}\")\n",
    "        print(f\"Auther: {self.auther}\")\n",
    "        print(f\"ISBN: {self.ISBN}\")\n",
    "\n",
    "a = books\n"
   ]
  },
  {
   "cell_type": "code",
   "execution_count": null,
   "metadata": {},
   "outputs": [],
   "source": [
    "#14. Design a class for rational numbers that supports arithmetic operations (+, -, *, /) using operator overloading.\n",
    "class arop():\n",
    "    def __init__(self,a):\n",
    "        self.a = a\n",
    "    def __add__(self,o):\n",
    "        return self.a + o.a\n",
    "    def __sub__(self,o):\n",
    "        return self.a - o.a\n",
    "    def __mul__(self,o):\n",
    "        return self.a * o.a\n",
    "    def __truediv__(self,o):\n",
    "        return self.a / o.a\n",
    "a = arop(10)\n",
    "print(a + a)\n",
    "print(a - a)\n",
    "print(a * a)\n",
    "print(a / a)\n",
    "\n",
    "#15. Implement a function that sorts a list of student objects based on multiple criteria (e.g., marks, age) using higher-order functions.\n",
    "class student():\n",
    "    def __init__(self,name,age,marks):\n",
    "        self.name = name\n",
    "        self.age = age\n",
    "        self.marks = marks\n",
    "def sortstudent(a):\n",
    "    if len(a)%2==0:\n",
    "        length = len(a)//2\n",
    "    else:\n",
    "        length = len(a)//2 +1\n",
    "    for i in range(length):\n",
    "        for j in range(i,len(a)):\n",
    "            if a[i].name == a[j].name :\n",
    "                if a[i].age == a[j].age:\n",
    "                    if a[i].marks > a[j].marks:\n",
    "                        a[i],a[j] = a[j],a[i]\n",
    "                elif a[i].age > a[i+1].age:\n",
    "                    a[i],a[j] = a[j],a[i]\n",
    "            elif a[i].name > a[i+1].name :\n",
    "                a[i],a[j] = a[j],a[i]\n",
    "# Create list of students\n",
    "a = []\n",
    "n = int(input(\"Enter the no of students : \"))\n",
    "for i in range(n):\n",
    "    print(f\"\\nFor student {i+1} :\\n\")\n",
    "    name = input(\"Enter the name : \")\n",
    "    age = int(input(\"Enter age : \"))\n",
    "    marks = float(input(\"Enter the marks : \"))\n",
    "    # Create a new Student object for each student\n",
    "    a.append(student(name, age, marks))\n",
    "sortstudent(a)\n",
    "print(f\"\\nsorted student list :\\n\")\n",
    "print(\"\\tname\\t\\tage\\t\\tmarks\")\n",
    "print(\"\\t____\\t\\t___\\t\\t_____\")\n",
    "for i in range(n):\n",
    "    print(f\"{i+1}\\t{a[i].name}\\t\\t{a[i].age}\\t\\t{a[i].marks}\")\n"
   ]
  }
 ],
 "metadata": {
  "kernelspec": {
   "display_name": "Python 3",
   "language": "python",
   "name": "python3"
  },
  "language_info": {
   "codemirror_mode": {
    "name": "ipython",
    "version": 3
   },
   "file_extension": ".py",
   "mimetype": "text/x-python",
   "name": "python",
   "nbconvert_exporter": "python",
   "pygments_lexer": "ipython3",
   "version": "3.13.2"
  }
 },
 "nbformat": 4,
 "nbformat_minor": 2
}
