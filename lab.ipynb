{
 "cells": [
  {
   "cell_type": "code",
   "execution_count": 9,
   "metadata": {},
   "outputs": [
    {
     "name": "stdout",
     "output_type": "stream",
     "text": [
      "<class 'int'>\n",
      "<class 'float'>\n",
      "<class 'complex'>\n"
     ]
    }
   ],
   "source": [
    "a = 1\n",
    "b = 0.5\n",
    "c = 2+3j\n",
    "print(f\"{type(a)}\\n{type(b)}\\n{type(c)}\")"
   ]
  },
  {
   "cell_type": "code",
   "execution_count": 7,
   "metadata": {},
   "outputs": [
    {
     "name": "stdout",
     "output_type": "stream",
     "text": [
      "3.0\n",
      "2.0\n",
      "(2+3j)\n"
     ]
    }
   ],
   "source": [
    "a  = 2 + 3j\n",
    "print(a.imag)\n",
    "print(a.real)\n",
    "print(a)"
   ]
  },
  {
   "cell_type": "code",
   "execution_count": 6,
   "metadata": {},
   "outputs": [
    {
     "name": "stdout",
     "output_type": "stream",
     "text": [
      "(8+8j)\n",
      "-2j\n"
     ]
    }
   ],
   "source": [
    "b = 4 + 3j\n",
    "c = 4 + 5j\n",
    "print(b+c)\n",
    "print(b-c)"
   ]
  },
  {
   "cell_type": "code",
   "execution_count": 21,
   "metadata": {},
   "outputs": [
    {
     "name": "stdout",
     "output_type": "stream",
     "text": [
      "7\n",
      "1\n",
      "2\n",
      "3\n",
      "7\n",
      "89\n",
      "456\n",
      "741852\n"
     ]
    }
   ],
   "source": [
    "l = [1,2,3,7,89,456,741852]\n",
    "print(len(l))\n",
    "for i in range(7):\n",
    "    print(l[i])"
   ]
  },
  {
   "cell_type": "code",
   "execution_count": 3,
   "metadata": {},
   "outputs": [
    {
     "name": "stdout",
     "output_type": "stream",
     "text": [
      "dict_keys([1])\n",
      "dict_values(['wertujilk'])\n",
      "wertujilk\n",
      "69\n"
     ]
    }
   ],
   "source": [
    "b = {1:\"wertujilk\"}\n",
    "print(b.keys())\n",
    "print(b.values())\n",
    "print(b[1])\n",
    "b[1]=69\n",
    "print(b[1])"
   ]
  },
  {
   "cell_type": "code",
   "execution_count": 4,
   "metadata": {},
   "outputs": [
    {
     "name": "stdout",
     "output_type": "stream",
     "text": [
      "69 is not divisible by 5\n"
     ]
    }
   ],
   "source": [
    "a = int(input(\"enter a no. : \"))\n",
    "if a%5 == 0:\n",
    "    print(f\"{a} is divisible by 5\")\n",
    "else:\n",
    "    print(f\"{a} is not divisible by 5\")"
   ]
  },
  {
   "cell_type": "code",
   "execution_count": 8,
   "metadata": {},
   "outputs": [
    {
     "name": "stdout",
     "output_type": "stream",
     "text": [
      "1900 is not a year\n"
     ]
    }
   ],
   "source": [
    "a = int(input(\"Enter a year for checking\"))\n",
    "if a%100 == 0:\n",
    "    if a%400 == 0:\n",
    "        print(f\"{a} is a leap year\")\n",
    "    else:\n",
    "        print(f\"{a} is not a year\")      \n",
    "elif a%4 == 0:\n",
    "    print(f\"{a} is a leap year\")\n",
    "else:\n",
    "    print(f\"{a} is not a year\")"
   ]
  },
  {
   "cell_type": "code",
   "execution_count": 20,
   "metadata": {},
   "outputs": [
    {
     "name": "stdout",
     "output_type": "stream",
     "text": [
      "for trangle of sides:  [1, 2, 3]\n",
      "the triangle is invlaid\n"
     ]
    }
   ],
   "source": [
    "a = []\n",
    "for i in range(3):\n",
    "    a.append(int(input(f\"Enter {i+1} side of triangle\")))\n",
    "    \n",
    "print(\"for trangle of sides: \",a)\n",
    "if(a[0]+a[1]>a[2] and a[1]+a[2]>a[0] and a[0]+a[2]>a[1]):\n",
    "    print(\"the triangle is valid\")\n",
    "else:\n",
    "    print(\"the triangle is invlaid\")"
   ]
  },
  {
   "cell_type": "code",
   "execution_count": null,
   "metadata": {},
   "outputs": [
    {
     "name": "stdout",
     "output_type": "stream",
     "text": [
      "The triangle of side: [10, 10, 10] is equilateral\n"
     ]
    }
   ],
   "source": [
    "a = []\n",
    "for i in range(3):\n",
    "    a.append(int(input(f\"Enter {i+1} side of triangle\")))\n",
    "print(f\"The triangle of side: {a}\",end=\"\")\n",
    "tchk = 0\n",
    "if a[0] == a[2]:\n",
    "    tchk=+1\n",
    "for i in range(2):\n",
    "    if a[i] == a[i+1]:\n",
    "        tchk = tchk + 1\n",
    "if tchk ==0 and a[0]+a[1]>a[2] and a[1]+a[2]>a[0] and a[0]+a[2]>a[1]:\n",
    "    print(\" is scalar\")\n",
    "elif tchk == 1 and a[0]+a[1]>a[2] and a[1]+a[2]>a[0] and a[0]+a[2]>a[1]:\n",
    "    print(\"is isoscalar\")\n",
    "elif tchk >1:\n",
    "    print(\" is equilateral\")\n",
    "else:\n",
    "    print(\" triangle is invalid\")"
   ]
  }
 ],
 "metadata": {
  "kernelspec": {
   "display_name": "Python 3",
   "language": "python",
   "name": "python3"
  },
  "language_info": {
   "codemirror_mode": {
    "name": "ipython",
    "version": 3
   },
   "file_extension": ".py",
   "mimetype": "text/x-python",
   "name": "python",
   "nbconvert_exporter": "python",
   "pygments_lexer": "ipython3",
   "version": "3.12.5"
  }
 },
 "nbformat": 4,
 "nbformat_minor": 2
}
